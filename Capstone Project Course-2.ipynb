{
 "cells": [
  {
   "cell_type": "markdown",
   "id": "55f6a71d-eb20-4e90-ad9e-43d88162fdc5",
   "metadata": {},
   "source": [
    "# Capstone Project Course"
   ]
  },
  {
   "cell_type": "code",
   "execution_count": 1,
   "id": "b0a02207-445e-4415-ade5-190c92f59c64",
   "metadata": {},
   "outputs": [],
   "source": [
    "import pandas as pd\n",
    "import numpy as np"
   ]
  },
  {
   "cell_type": "code",
   "execution_count": 2,
   "id": "e8cfd660-68d4-4132-908d-cd6dbc636269",
   "metadata": {},
   "outputs": [
    {
     "name": "stdout",
     "output_type": "stream",
     "text": [
      "Hello Capstone Project Course\n"
     ]
    }
   ],
   "source": [
    "print(\"Hello Capstone Project Course\")"
   ]
  },
  {
   "cell_type": "code",
   "execution_count": null,
   "id": "d9495d9d-4199-4937-9615-81a14df57ae0",
   "metadata": {},
   "outputs": [],
   "source": []
  }
 ],
 "metadata": {
  "kernelspec": {
   "display_name": "Python",
   "language": "python",
   "name": "conda-env-python-py"
  },
  "language_info": {
   "codemirror_mode": {
    "name": "ipython",
    "version": 3
   },
   "file_extension": ".py",
   "mimetype": "text/x-python",
   "name": "python",
   "nbconvert_exporter": "python",
   "pygments_lexer": "ipython3",
   "version": "3.6.13"
  }
 },
 "nbformat": 4,
 "nbformat_minor": 5
}
